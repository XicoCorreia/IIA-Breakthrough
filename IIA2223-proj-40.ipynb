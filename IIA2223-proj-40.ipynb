{
 "cells": [
  {
   "cell_type": "markdown",
   "metadata": {
    "colab_type": "text",
    "id": "LekFEsVbua_R"
   },
   "source": [
    "#  Jogo BreakThrough\n",
    "\n",
    "## Introdução à Inteligência Artificial edição 2022/23\n",
    "### Projeto para avaliação\n",
    "\n",
    "<img src=\".\\images\\Picture0.png\" alt=\"Drawing\" style=\"width: 200px;\"/>"
   ]
  },
  {
   "cell_type": "markdown",
   "metadata": {},
   "source": [
    "### Grupo: 40\n",
    "\n",
    "#### Elementos do Grupo\n",
    "\n",
    "Nome: Francisco Correia\n",
    "\n",
    "Número: 54685\n",
    "\n",
    "Nome: Francisco Maia\n",
    "\n",
    "Número: 55855\n",
    "\n",
    "Nome: Alexandre Fonseca\n",
    "\n",
    "Número: 55955"
   ]
  },
  {
   "cell_type": "markdown",
   "metadata": {},
   "source": [
    "## Formulação do Jogo BreakThrough em termos de estados e de operadores"
   ]
  },
  {
   "cell_type": "markdown",
   "metadata": {},
   "source": [
    "### Descrição da representação dos estados do jogo"
   ]
  },
  {
   "cell_type": "markdown",
   "metadata": {},
   "source": [
    "#### A classe de estado: `EstadoBT_40`"
   ]
  },
  {
   "cell_type": "code",
   "execution_count": null,
   "metadata": {},
   "outputs": [],
   "source": [
    "class EstadoBT_40:\n",
    "    def __init__(self, to_move, utility, board, whites, blacks, moves=None):\n",
    "        self.to_move = to_move\n",
    "        self.utility = utility\n",
    "        self.board = board\n",
    "        self.whites = whites\n",
    "        self.blacks = blacks\n",
    "        self.moves = moves\n",
    "\n",
    "    def __str__(self):\n",
    "        player_chars = [\".\", \"W\", \"B\"]  # 0, WHITES and BLACKS\n",
    "        board_str = [\"-----------------\"]\n",
    "        for i in range(len(self.board), 0, -1):\n",
    "            board_str.append(\n",
    "                f\"{i}|\" + \" \".join(map(lambda x: player_chars[x], self.board[i - 1]))\n",
    "            )\n",
    "        board_str.append(\"-+---------------\")\n",
    "        board_str.append(\" |a b c d e f g h\")\n",
    "        return \"\\n\".join(board_str)"
   ]
  },
  {
   "cell_type": "markdown",
   "metadata": {},
   "source": [
    "<style>\n",
    "    li {line-height: 1.5em};\n",
    "</style>\n",
    "Seja `jogo` uma instância de `JogoBT_40()`. Os estados de `jogo` são representados pela classe `EstadoBT_40`, com os seguintes atributos:\n",
    "1. `to_move`: o jogador que vai fazer a jogada seguinte (1: brancas, 2: pretas)\n",
    "2. `utility`: a utilidade neste estado para o jogador anterior.  \n",
    "  O valor é calculado por [`jogo.compute_utility(row, player)`](./IIA2223-proj-jog-40.py#L116).  \n",
    "  Um estado do qual resulta a vitória do jogador 1 (brancas) tem o valor `1` (`-1` para as peças pretas, `0` para \"em curso\").  \n",
    "  Na prática usa-se este valor previamente calculado para devolver a utilidade via [`jogo.utility(state, player)`](./IIA2223-proj-jog-40.py#L112).\n",
    "1. `board`: o tabuleiro do jogo, representado por uma matriz quadrada de dimensão arbitrária (`n=8` por omissão).  \n",
    "  As posições no tabuleiro contêm os identificadores dos jogadores (1: brancas, 2: pretas, 0 posição livre).\n",
    "1. `whites`: o conjunto das posições ocupadas pelas peças brancas (as do jogador 1).\n",
    "2. `blacks`: o conjunto das posições ocupadas pelas peças pretas (as do jogador 2).\n",
    "3. `moves`: a lista de ações válidas para este estado (*i.e.*, para o jogador `to_move`).  \n",
    "  Este atributo toma o valor `None` por omissão e serve de *cache* para [`jogo.actions(state)`](./IIA2223-proj-jog-40.py#L50).  \n",
    "  Isto é útil caso queiramos reutilizar as ações (*e.g.*, numa função de avaliação, para *memoization* de estados).  \n",
    "  O atributo começa a `None` para poupar recursos: no caso do algoritmo *alfabeta*, quando o teste de corte é verdadeiro não se calculam as ações para o estado a avaliar.\n",
    "\n",
    "De notar que optámos por não usar `GameState` (em [jogos.py](./jogos.py#20)). Como `GameState` é uma sub-classe de um tuplo, não permite herança.  \n",
    "Por conseguinte, não poderíamos ter atributos mutáveis e um construtor com argumentos por omissão (*i.e.*, `moves=None`)."
   ]
  },
  {
   "cell_type": "markdown",
   "metadata": {},
   "source": [
    "#### A classe de jogo: `JogoBT_40`"
   ]
  },
  {
   "cell_type": "markdown",
   "metadata": {},
   "source": [
    "A classe `JogoBT_40` expande a classe `Game` (em [jogos.py](./jogos.py)).  \n",
    "A funcionalidade da classe é explicada nas secções mais à frente. Por agora podemos só correr a célula de código seguinte."
   ]
  },
  {
   "cell_type": "code",
   "execution_count": null,
   "metadata": {},
   "outputs": [],
   "source": [
    "from jogos import Game\n",
    "\n",
    "class JogoBT_40(Game):\n",
    "    WHITE = 1\n",
    "    BLACK = 2\n",
    "\n",
    "    def __init__(self, n=8):\n",
    "        self.n = n\n",
    "        whites = set((row, col) for row in range(2) for col in range(n))\n",
    "        blacks = set((row, col) for row in range(n - 2, n) for col in range(n))\n",
    "        board = [[0 for _ in range(n)] for _ in range(n)]\n",
    "        for x, y in whites:\n",
    "            board[x][y] = JogoBT_40.WHITE\n",
    "        for x, y in blacks:\n",
    "            board[x][y] = JogoBT_40.BLACK\n",
    "        to_move = JogoBT_40.WHITE\n",
    "        self.action_dict = self.compute_action_dict(n)\n",
    "        self.initial = EstadoBT_40(to_move, 0, board, whites, blacks)\n",
    "\n",
    "    def actions(self, state: EstadoBT_40):\n",
    "        if state.moves:\n",
    "            return state.moves\n",
    "        moves = set()\n",
    "        if state.to_move == JogoBT_40.WHITE:\n",
    "            pieces, pieces_opponent = state.whites, state.blacks\n",
    "        else:\n",
    "            pieces, pieces_opponent = state.blacks, state.whites\n",
    "        for pos in pieces:\n",
    "            for target, move in self.action_dict[pos][state.to_move].items():\n",
    "                # can't eat opponent's piece if it is directly in front of ours\n",
    "                if target[1] == pos[1] and target in pieces_opponent:\n",
    "                    continue\n",
    "                if target not in pieces:  # don't eat our own pieces\n",
    "                    moves.add(move)\n",
    "        state.moves = sorted(moves)\n",
    "        return state.moves\n",
    "\n",
    "    def display(self, state):\n",
    "        print(state)\n",
    "        if not self.terminal_test(state):\n",
    "            print(f'--NEXT PLAYER: {\"W\" if state.to_move == JogoBT_40.WHITE else \"B\"}')\n",
    "\n",
    "    def executa(self, state: EstadoBT_40, valid_actions: \"list[str]\"):\n",
    "        \"\"\"Executa várias jogadas sobre um estado dado.\n",
    "        Devolve o estado final.\"\"\"\n",
    "        result = state\n",
    "        for move in valid_actions:\n",
    "            result = self.result(result, move)\n",
    "        return result\n",
    "\n",
    "    def result(self, state: EstadoBT_40, move):\n",
    "        board = [row[:] for row in state.board]  # deepcopy\n",
    "        (old_row, old_col), (new_row, new_col) = self.convert_move(move)\n",
    "        board[new_row][new_col] = state.to_move\n",
    "        board[old_row][old_col] = 0\n",
    "        whites, blacks = state.whites.copy(), state.blacks.copy()\n",
    "\n",
    "        if state.to_move == JogoBT_40.WHITE:\n",
    "            whites.remove((old_row, old_col))\n",
    "            whites.add((new_row, new_col))\n",
    "            blacks.discard((new_row, new_col))\n",
    "            to_move = JogoBT_40.BLACK\n",
    "        else:\n",
    "            blacks.remove((old_row, old_col))\n",
    "            blacks.add((new_row, new_col))\n",
    "            whites.discard((new_row, new_col))\n",
    "            to_move = JogoBT_40.WHITE\n",
    "\n",
    "        return EstadoBT_40(\n",
    "            to_move,\n",
    "            self.compute_utility(new_row, state.to_move),\n",
    "            board,\n",
    "            whites,\n",
    "            blacks,\n",
    "        )\n",
    "\n",
    "    def terminal_test(self, state: EstadoBT_40):\n",
    "        # Os próprios jogos em jogar.py lidam com\n",
    "        # os casos em que já não há jogadas (peças).\n",
    "        return state.utility != 0\n",
    "\n",
    "    def utility(self, state: EstadoBT_40, player):\n",
    "        # W: 1, B: -1\n",
    "        return state.utility if player == JogoBT_40.WHITE else -state.utility\n",
    "\n",
    "    def compute_utility(self, row, player):\n",
    "        \"\"\"\n",
    "        Devolve a utilidade para um dado estado:\n",
    "        (1: vitória, -1: derrota, 0: não terminou)\n",
    "\n",
    "        Pressupõe-se que a função é chamada unicamente quando\n",
    "        é criado um novo estado e que o valor de `row` resulta\n",
    "        de uma jogada válida para o `player` em questão.\n",
    "        \"\"\"\n",
    "        if 0 < row < self.n - 1:\n",
    "            return 0\n",
    "        return 1 if player == JogoBT_40.WHITE else -1\n",
    "\n",
    "    def compute_action_dict(self, n):\n",
    "        \"\"\"Devolve um dicionário que associa uma posição `(x, y)`\n",
    "        usada no estado interno às ações disponíveis nessa posição.\n",
    "\n",
    "        As associações são feitas em função do jogador\n",
    "        (`1` para peças brancas, `2` para peças pretas).\n",
    "\n",
    "        As ações são devolvidas num dicionário em que as chaves são\n",
    "        a posição do destino e os valores são a ação em si.\n",
    "\n",
    "        Exemplo de ações para uma peça em `(1,1)` (visualmente, `b2`):\n",
    "        ```python\n",
    "        jogo = JogoBT_40()\n",
    "        actions_b2 = jogo.action_dict[(1, 1)]\n",
    "        jogo.action_dict[(1, 1)] == (\n",
    "            None,  # padding para indexar com state.to_move sem offset\n",
    "            {(2, 0): \"b2-a3\", (2, 1): \"b2-b3\", (2, 2): \"b2-c3\"}, # jog. 1\n",
    "            {(0, 0): \"b2-a1\", (0, 1): \"b2-b1\", (0, 2): \"b2-c1\"}, # jog. 2\n",
    "        )\n",
    "        ```\"\"\"\n",
    "\n",
    "        def in_board(x):\n",
    "            return 0 <= x < n\n",
    "\n",
    "        ret = {}\n",
    "        a_ord = ord(\"a\")\n",
    "        for row in range(n):\n",
    "            for col in range(n):\n",
    "                black_moves = {}\n",
    "                white_moves = {}\n",
    "                for i in filter(in_board, (row - 1, row + 1)):\n",
    "                    # white pieces move upwards, black pieces downwards\n",
    "                    moves = white_moves if i > row else black_moves\n",
    "                    for j in filter(in_board, (col - 1, col, col + 1)):\n",
    "                        moves[(i, j)] = \"-\".join(\n",
    "                            [f\"{chr(col + a_ord)}{row + 1}\", f\"{chr(j + a_ord)}{i + 1}\"]\n",
    "                        )\n",
    "                # use None to pad tuple so we can use to_move as index\n",
    "                ret[(row, col)] = (None, white_moves, black_moves)\n",
    "        return ret\n",
    "\n",
    "    def convert_move(self, move):\n",
    "        \"\"\"Converte uma ação no formato do enunciado\n",
    "        para uma ação representada no estado interno.\n",
    "        Exemplo: \"a1-b2\" -> ((0, 0), (1, 1))\"\"\"\n",
    "        ord_a = ord(\"a\")\n",
    "        (old_col, old_row), (new_col, new_row) = move.split(\"-\")\n",
    "        return (\n",
    "            (int(old_row) - 1, ord(old_col) - ord_a),\n",
    "            (int(new_row) - 1, ord(new_col) - ord_a),\n",
    "        )"
   ]
  },
  {
   "cell_type": "markdown",
   "metadata": {},
   "source": [
    "### Testes da formulação"
   ]
  },
  {
   "cell_type": "markdown",
   "metadata": {},
   "source": [
    "#### Situações iniciais dos jogos\n",
    "\n",
    "Pretendemos construir um jogo de Breakthrough. A situação inicial de um jogo de Breakthrough é a seguinte:\n",
    "<div>\n",
    "<img src=\".\\images\\Picture1.png\" alt=\"Drawing\" style=\"width: 150px;\"/><br>\n",
    "<p style=\"text-align: center;\">Figura 1</p>\n",
    "</div>"
   ]
  },
  {
   "cell_type": "markdown",
   "metadata": {},
   "source": [
    "A construção de um novo jogo tem como objetivo definir quais as posições iniciais das peças brancas e das peças pretas.  \n",
    "As brancas vão preencher as duas linhas de baixo (primeiras duas), e as pretas as duas de cima (últimas duas). \n",
    "\n",
    "Antes de mais, definem-se duas constantes na classe para os jogadores, acedidas através de `JogoBT_40.WHITE` e `JogoBT_40.BLACK`:\n",
    "```python\n",
    "class JogoBT_40(Game):\n",
    "    WHITE = 1\n",
    "    BLACK = 2\n",
    "```\n",
    "\n",
    "Geram-se e guardam-se os conjuntos de peças brancas e pretas para o estado inicial:\n",
    "```python\n",
    "whites = set((row, col) for row in range(2) for col in range(n))\n",
    "blacks = set((row, col) for row in range(n - 2, n) for col in range(n))\n",
    "```\n",
    "\n",
    "De seguida é criado e preenchido o tabuleiro:\n",
    "```python\n",
    "board = [[0 for _ in range(n)] for _ in range(n)]\n",
    "for x, y in whites:\n",
    "    board[x][y] = JogoBT_40.WHITE\n",
    "for x, y in blacks:\n",
    "    board[x][y] = JogoBT_40.BLACK\n",
    "```\n",
    "\n",
    "\n",
    "O primeiro jogador a jogar é o que tem as peças brancas (jogador 1):\n",
    "```python\n",
    "to_move = JogoBT_40.WHITE\n",
    "```\n",
    "\n",
    "É ainda criado e guardado **o atributo** `action_dict`, um dicionário de ações para um jogo com a dimensão dada:\n",
    "```python\n",
    "self.action_dict = self.compute_action_dict(n)\n",
    "\n",
    "```\n",
    "Iremos ver a utilidade deste dicionário numa secção mais adiante.\n",
    "\n",
    "O estado inicial é então construído:\n",
    "```python\n",
    "self.initial = EstadoBT_40(to_move, 0, board, whites, blacks)\n",
    "```\n",
    "\n",
    "Vamos agora iniciar um jogo e observar o seu estado inicial:"
   ]
  },
  {
   "cell_type": "code",
   "execution_count": null,
   "metadata": {},
   "outputs": [],
   "source": [
    "j1 = JogoBT_40()\n",
    "print(\"Board:\")\n",
    "for row in j1.initial.board:\n",
    "    print(\"  \", row)\n",
    "print(\"Próximo jogador:\", j1.initial.to_move)\n",
    "print(\"Peças brancas:\", j1.initial.whites)\n",
    "print(\"Peças pretas:\", j1.initial.blacks)\n",
    "print(\"Utilidade guardada neste estado:\", j1.initial.utility)\n",
    "print(\"Ações guardadas neste estado:\", j1.initial.moves)"
   ]
  },
  {
   "cell_type": "markdown",
   "metadata": {},
   "source": [
    "### Método Display()"
   ]
  },
  {
   "cell_type": "markdown",
   "metadata": {},
   "source": [
    "De notar que a representação interna do tabuleiro espelha a representação visual na vertical: onde estão as brancas (1) deviam estar as pretas (2), e vice-versa.  \n",
    "Isto é simplesmente porque estamos a imprimir por ordem crescente, e os índices internos correspondem aos índices visuais + 1.\n",
    "\n",
    "Uma representação interna mais semelhante à obtidade pelo método `jogo.display(state)` seria a seguinte:"
   ]
  },
  {
   "cell_type": "code",
   "execution_count": null,
   "metadata": {},
   "outputs": [],
   "source": [
    "print(\"Board com representação interna invertida na vertical:\")\n",
    "for i in range(len(j1.initial.board), 0, -1):\n",
    "    print(\"  \", j1.initial.board[i - 1])"
   ]
  },
  {
   "cell_type": "markdown",
   "metadata": {},
   "source": [
    "Observemos agora o display do estado inicial do jogo:"
   ]
  },
  {
   "cell_type": "code",
   "execution_count": null,
   "metadata": {},
   "outputs": [],
   "source": [
    "j1.display(j1.initial)"
   ]
  },
  {
   "cell_type": "markdown",
   "metadata": {},
   "source": [
    "### Método actions()\n",
    "\n",
    "#### Descrição\n",
    "\n",
    "O método `actions` devolve  ações possiveís e válidas para o próximo jogador. Neste caso, o formato é uma lista do estilo `[\"a1-b2\", \"c2-c3\", ...]`.\n",
    "\n",
    "No início do método verificamos se o estado `state` já tem a lista de ações calculada. Neste caso devolvemos logo as ações, e em caso contrário calculamos (e guardamos) as mesmas:\n",
    "```python\n",
    "def actions(self, state: EstadoBT_40):\n",
    "    if state.moves:\n",
    "        return state.moves\n",
    "````\n",
    "\n",
    "A abordagem neste método é iterar sobre todas as peças do jogador a jogar e servir-nos do dicionário de ações gerado no construtor.  \n",
    "Usamos um conjunto `moves` para evitar ações repetidas; no fim produzimos uma lista ordenada a partir do conjunto.\n",
    "```python\n",
    "moves = set()\n",
    "if state.to_move == JogoBT_40.WHITE:\n",
    "    pieces, pieces_opponent = state.whites, state.blacks\n",
    "else:\n",
    "    pieces, pieces_opponent = state.blacks, state.whites\n",
    "for pos in pieces:\n",
    "    for target, move in self.action_dict[pos][state.to_move].items():\n",
    "```\n",
    "\n",
    "Ao iterar pelas peças verificamos:\n",
    "- Se existe uma peça do adversário na posição \"à frente\" ou \"atrás\" da peça atual.\n",
    "- Se **não** existe uma peça amigável na posição para as quais a peça atual se pode mover.\n",
    "\n",
    "A jogada só é válida se **ambas** as condições forem falsas:\n",
    "\n",
    "```python\n",
    "# can't eat opponent's piece if it is directly in front of ours\n",
    "if target[1] == pos[1] and target in pieces_opponent:\n",
    "    continue\n",
    "if target not in pieces:  # don't eat our own pieces\n",
    "    moves.add(move)\n",
    "```\n",
    "\n",
    "No fim guardamos a lista ordenada de ações no estado, para eventualmente reutilizar no futuro, e devolvemos a mesma:\n",
    "```python\n",
    "state.moves = sorted(moves)\n",
    "return state.moves\n",
    "```\n",
    "\n",
    "#### Dicionário de ações\n",
    "\n",
    "A função `compute_action_dict(self, n)` devolve um dicionário que associa uma posição `(x, y)` usada no estado interno às ações disponíveis nessa posição.  \n",
    "As associações são feitas em função do jogador: devolve-se um tuplo com `(None, <ações peças brancas>,  <ações peças pretas>)`.   \n",
    "As ações para cada jogador são devolvidas num dicionário em que as <span style=\"color: plum\">chaves</span> são a <span style=\"color: plum\">posição do destino</span> e os <span style=\"color: MediumSeaGreen\">valores</span> são a <span style=\"color: MediumSeaGreen\">ação</span> no formato \"visual\".\n",
    "\n",
    "Exemplo de ações para uma peça em `(1,1)` (visualmente, `b2`):"
   ]
  },
  {
   "cell_type": "code",
   "execution_count": null,
   "metadata": {},
   "outputs": [],
   "source": [
    "print(\"Ações para uma peça em '(1,1)' (visualmente, 'b2'):\")\n",
    "padding, acoes_brancas, acoes_pretas = j1.action_dict[(1,1)]\n",
    "print(\"Vazio:  \", padding)\n",
    "print(\"Brancas:\", acoes_brancas)\n",
    "print(\"Pretas: \", acoes_pretas)"
   ]
  },
  {
   "cell_type": "markdown",
   "metadata": {},
   "source": [
    "Vejamos o funcionamento do método `actions`:"
   ]
  },
  {
   "cell_type": "code",
   "execution_count": null,
   "metadata": {},
   "outputs": [],
   "source": [
    "to_move = j1.initial.to_move\n",
    "player = 'W' if to_move == 1 else 'B'\n",
    "print(\"Next Player:\", player)\n",
    "print(\"Ações possíveis:\", j1.actions(j1.initial))"
   ]
  },
  {
   "cell_type": "markdown",
   "metadata": {},
   "source": [
    "## Jogos entre jogadores simples\n",
    "Nesta secção irão realizar alguns jogos, para verificar a modelização"
   ]
  },
  {
   "cell_type": "markdown",
   "metadata": {},
   "source": [
    "Jogo entre dois jogadores \"random\", que escolhem uma ação aleatoriamente:"
   ]
  },
  {
   "cell_type": "code",
   "execution_count": null,
   "metadata": {},
   "outputs": [],
   "source": [
    "from jogos import *\n",
    "from jogar import *\n",
    "\n",
    "j2 = JogoBT_40()\n",
    "random_1 = Jogador(\"Randall\", random_player)\n",
    "random_2 = Jogador(\"Randy\", random_player)\n",
    "game_to_display = joga11(j2, random_1, random_2)\n",
    "mostraJogo(j2, game_to_display, False)"
   ]
  },
  {
   "cell_type": "markdown",
   "metadata": {},
   "source": [
    "Jogo entre um jogador \"random\" e um jogador \"alfabeta\", com depth 2, que utiliza como `eval_fun` a `função utility`:"
   ]
  },
  {
   "cell_type": "code",
   "execution_count": null,
   "metadata": {},
   "outputs": [],
   "source": [
    "alfabeta_simples_1 = JogadorAlfaBeta(\"Alfaiate\", 2, j2.utility)\n",
    "mostraJogo(j2, joga11(j2, alfabeta_simples_1, random_1))"
   ]
  },
  {
   "cell_type": "markdown",
   "metadata": {},
   "source": [
    "Campeonato entre 4 jogadores, dois \"random\" e dois \"alfabeta\", com depth 2, que utilizam a função `utility` como `eval_fun`:"
   ]
  },
  {
   "cell_type": "code",
   "execution_count": null,
   "metadata": {},
   "outputs": [],
   "source": [
    "alfabeta_simples_2 = JogadorAlfaBeta(\"Alberta\", 2, j2.utility)\n",
    "faz_campeonato(j2, [random_1, random_2, alfabeta_simples_1, alfabeta_simples_2], 10)"
   ]
  },
  {
   "cell_type": "markdown",
   "metadata": {},
   "source": [
    "Vejamos o jogo entre os dois jogadores \"random\" passo-a-passo:"
   ]
  },
  {
   "cell_type": "code",
   "execution_count": null,
   "metadata": {},
   "outputs": [],
   "source": [
    "jogadores, jogadas, vencedor = game_to_display\n",
    "print(\"Jogo entre\", jogadores[0], \"e\", jogadores[1], \"\\n\")\n",
    "print(\"As jogadas efetuadas foram: \", jogadas, \"\\n\")\n",
    "print(\"Vencedor do jogo:\", jogadores[vencedor - 1])\n",
    "estado_to_display = j2.initial\n",
    "for move in jogadas:\n",
    "    j2.display(estado_to_display)\n",
    "    estado_to_display = j2.result(estado_to_display, move)"
   ]
  },
  {
   "cell_type": "markdown",
   "metadata": {},
   "source": [
    "## Exemplos de jogadores alfabeta\n",
    " Descreva e teste nesta secção as várias funções de avaliação desenvolvidas tanto para o ataque como para a defesa."
   ]
  },
  {
   "cell_type": "markdown",
   "metadata": {},
   "source": [
    "### Belarmino\n",
    "\n",
    "Primeiramente, antes de definirmos as nossas próprias funções de avaliação, **definimos o Belarmino**:"
   ]
  },
  {
   "cell_type": "code",
   "execution_count": null,
   "metadata": {},
   "outputs": [],
   "source": [
    "def f_aval_belarmino(estado: EstadoBT_40, jogador):\n",
    "    res = 0\n",
    "    n = len(estado.board)\n",
    "    if jogador == JogoBT_40.WHITE:\n",
    "        for row, _ in estado.whites:\n",
    "            x = row + 1\n",
    "            res += x**x\n",
    "    else:\n",
    "        for row, _ in estado.blacks:\n",
    "            x = n - row\n",
    "            res += x**x\n",
    "    return res"
   ]
  },
  {
   "cell_type": "markdown",
   "metadata": {},
   "source": [
    "### Jogadores e funções de avaliação desenvolvidas"
   ]
  },
  {
   "cell_type": "markdown",
   "metadata": {},
   "source": [
    "#### Jogador *Marco*"
   ]
  },
  {
   "cell_type": "markdown",
   "metadata": {},
   "source": [
    "O próximo jogador desenvolvido, vamos chamar-lhe **Marco**, este jogador vai avaliar:\n",
    "1. **Vitória**: Se o jogador já venceu.\n",
    "2. **Vitória iminente**: Se é possível ganhar numa jogada, ou seja, se temos uma peça na penúltima linha, e esta peça não pode ser \"comida\" - `função threat()`.\n",
    "3. **HomeGround**: Se a peça está na primeira linha;para peças brancas é a linha 1, para peças pretas é a linha 8 (ou *n*).\n",
    "4. **Colunas vazias**: Se existem colunas vazias, isto é, que não contenham nenhuma peça do jogador.\n",
    "5. **Peças do adversário**: O número de peças do adversário.\n",
    "\n",
    "- Decidimos valorizar bastante o **ponto 1** e o **ponto 2** pois ambos são casos em que chegamos fácil e rapidamente à vitória.\n",
    "- O **ponto 3**, é uma forma de nos defendermos frente a um adversário muito atacante, como o **Belarmino**.\n",
    "- O **ponto 4**, tem como objetivo manter as peças em colunas diferentes, para não acontecer o caso de ficar com demasiadas peças numa só coluna.\n",
    "- O **ponto 5**, após alguns testes verificámos ser um dos que mais influencia, pois quanto menos peças o adversário tem, mais dificil se torna este vencer.  \n",
    "  Por esta razão desvalorizarmos progressivamente, consoante o número de peças do adversário.\n"
   ]
  },
  {
   "cell_type": "code",
   "execution_count": null,
   "metadata": {},
   "outputs": [],
   "source": [
    "def f_aval_jogador_Marco(estado: EstadoBT_40, jogador):\n",
    "    res = 0\n",
    "    n = len(estado.board)\n",
    "    home, target, k = (0, n - 1, -1) if jogador == JogoBT_40.WHITE else (n - 1, 0, 1)\n",
    "\n",
    "    if jogador == JogoBT_40.WHITE:\n",
    "        pieces, pieces_opponent = estado.whites, estado.blacks\n",
    "    else:\n",
    "        pieces, pieces_opponent = estado.blacks, estado.whites\n",
    "\n",
    "    # Verificar se existem colunas vazias\n",
    "    occupied_cols = set()\n",
    "\n",
    "    # Player win\n",
    "    if target in map(lambda x: x[0], list(pieces)):\n",
    "        return 500000\n",
    "\n",
    "    for row, col in pieces:\n",
    "        occupied_cols.add(col)\n",
    "        # res += piece_value(estado, row, col)\n",
    "        # One move to win\n",
    "        if row == target + k and not threat(estado, row, col):\n",
    "            res += 10000\n",
    "        # Homeground piece\n",
    "        elif row == home:\n",
    "            res += 150\n",
    "\n",
    "    res -= (n - len(occupied_cols)) * 20\n",
    "    res -= len(pieces_opponent) * 20\n",
    "    return res\n",
    "\n",
    "def threat(estado: EstadoBT_40, row, col):\n",
    "    if estado.to_move == JogoBT_40.WHITE:\n",
    "        pieces_opponent = estado.blacks\n",
    "        row += 1\n",
    "    else:\n",
    "        pieces_opponent = estado.whites\n",
    "        row -= 1\n",
    "    return (row, col - 1) in pieces_opponent or (row, col + 1) in pieces_opponent"
   ]
  },
  {
   "cell_type": "markdown",
   "metadata": {},
   "source": [
    "#### Jogador *Heurácio*"
   ]
  },
  {
   "cell_type": "markdown",
   "metadata": {},
   "source": [
    "A última iteração do nosso jogador é o **Heurácio**. Baseia-se no jogador anterior mas incorpora uma nova função na função anterior: `piece_value().`\n",
    "\n",
    "Esta função valoriza os seguintes critérios:\n",
    "- `(+)` **ligações horizontais**: existência de peças amigáveis adjacentes à peça atual na horizontal\n",
    "- `(+)` **ligações verticais**: existência de peças amigáveis adjacentes à peça atual na vertical\n",
    "- `(+)` **proteção**: existência de peças amigáveis que podem contra-atacar caso a nossa peça seja comida pelo adversário\n",
    "- `(-)` **vulnerabilidade**: possibilidade da nossa peça ser comida pelo adversário\n",
    "- `(+)` **distância até à vitória**: a peça estar na penúltima ou na antepenúltima fila, desde que **não** se encontre **vulnerável**\n",
    "- `(+)` **valor intrínseco**: atribuem-se pontos a todas as peças (isto é, quantas mais, melhor)"
   ]
  },
  {
   "cell_type": "code",
   "execution_count": null,
   "metadata": {},
   "outputs": [],
   "source": [
    "def piece_value(estado: EstadoBT_40, row, col):\n",
    "    res = 0\n",
    "    n = len(estado.board)\n",
    "\n",
    "    piece_in_danger = False\n",
    "    if estado.to_move == JogoBT_40.WHITE:\n",
    "        pieces = estado.whites\n",
    "        pieces_opponent = estado.blacks\n",
    "        friend_row, opp_row = row - 1, row + 1\n",
    "        second_row, third_row = n - 2, n - 3  # from winning row\n",
    "        row_value = row + 1\n",
    "\n",
    "    else:\n",
    "        pieces = estado.blacks\n",
    "        pieces_opponent = estado.whites\n",
    "        friend_row, opp_row = row + 1, row - 1\n",
    "        second_row, third_row = 1, 2  # from winning row\n",
    "        row_value = n - row\n",
    "\n",
    "    # Verify horizontal connections\n",
    "    if (row, col - 1) in pieces or (row, col + 1) in pieces:\n",
    "        res += 15\n",
    "\n",
    "    # Verify vertical connections\n",
    "    if (row - 1, col) in pieces or (row + 1, col) in pieces:\n",
    "        res += 5\n",
    "\n",
    "    # Verify if piece is protected (can counter-attack)\n",
    "    if (friend_row, col - 1) in pieces or (friend_row, col + 1) in pieces:\n",
    "        res += 15\n",
    "\n",
    "    # Verify if piece can be attacked\n",
    "    if (opp_row, col - 1) in pieces_opponent or (opp_row, col + 1) in pieces_opponent:\n",
    "        # Peças mais avançadas e que não podem ser atacadas valem mais\n",
    "        res -= 15\n",
    "        piece_in_danger = True\n",
    "\n",
    "    if not piece_in_danger:\n",
    "        if row == third_row:\n",
    "            res += 5\n",
    "        elif row == second_row:\n",
    "            res += 20\n",
    "\n",
    "    res += row_value * 10\n",
    "\n",
    "    return res\n"
   ]
  },
  {
   "cell_type": "markdown",
   "metadata": {},
   "source": [
    "Usamos a função `piece_value(estado, row, col)` no novo jogador (linha 20):"
   ]
  },
  {
   "cell_type": "code",
   "execution_count": null,
   "metadata": {},
   "outputs": [],
   "source": [
    "def f_aval_jogador_Heuracio(estado: EstadoBT_40, jogador):\n",
    "    res = 0\n",
    "    n = len(estado.board)\n",
    "    home, target, k = (0, n - 1, -1) if jogador == JogoBT_40.WHITE else (n - 1, 0, 1)\n",
    "\n",
    "    if jogador == JogoBT_40.WHITE:\n",
    "        pieces, pieces_opponent = estado.whites, estado.blacks\n",
    "    else:\n",
    "        pieces, pieces_opponent = estado.blacks, estado.whites\n",
    "\n",
    "    # Verificar se existem colunas vazias\n",
    "    occupied_cols = set()\n",
    "\n",
    "    # Player win\n",
    "    if target in map(lambda x: x[0], list(pieces)):\n",
    "        return float(\"+inf\")\n",
    "\n",
    "    for row, col in pieces:\n",
    "        occupied_cols.add(col)\n",
    "        res += piece_value(estado, row, col)\n",
    "        # One move to win\n",
    "        if row == target + k and not threat(estado, row, col):\n",
    "            res += 10000\n",
    "        # Homeground piece\n",
    "        elif row == home:\n",
    "            res += 150\n",
    "\n",
    "    res -= (n - len(occupied_cols)) * 20\n",
    "    res -= len(pieces_opponent) * 80\n",
    "    return res"
   ]
  },
  {
   "cell_type": "markdown",
   "metadata": {},
   "source": [
    "## Exemplos de jogos entre alguns desses jogadores e o Belarmino"
   ]
  },
  {
   "cell_type": "markdown",
   "metadata": {},
   "source": [
    "### Realização de campeonato com depth 1\n",
    "\n",
    "Dentro deste campeonato vão existir jogos entre os nosso jogadores também, mas o que pretendemos demonstrar é os resultados dos jogadores frente ao belarmino"
   ]
  },
  {
   "cell_type": "code",
   "execution_count": null,
   "metadata": {},
   "outputs": [],
   "source": [
    "depth = 1\n",
    "jogo = JogoBT_40()\n",
    "belarmino = JogadorAlfaBeta(\"Belarmino\", depth, f_aval_belarmino)\n",
    "marco = JogadorAlfaBeta(\"Marco\", depth, f_aval_jogador_Marco)\n",
    "heuracio = JogadorAlfaBeta(\"Heuracio\", depth, f_aval_jogador_Heuracio)\n",
    "faz_campeonato(jogo, [belarmino, marco, heuracio], 10)"
   ]
  },
  {
   "cell_type": "markdown",
   "metadata": {},
   "source": [
    "### Realização de campeonato com depth 2\n",
    "Dentro deste campeonato vão existir jogos entre os nosso jogadores, mas o que pretendemos demonstrar é os resultados dos jogadores frente ao Belarmino."
   ]
  },
  {
   "cell_type": "code",
   "execution_count": null,
   "metadata": {},
   "outputs": [],
   "source": [
    "depth = 2\n",
    "jogo = JogoBT_40()\n",
    "belarmino = JogadorAlfaBeta(\"Belarmino\", depth, f_aval_belarmino)\n",
    "marco = JogadorAlfaBeta(\"Marco\", depth, f_aval_jogador_Marco)\n",
    "heuracio = JogadorAlfaBeta(\"Heuracio\", depth, f_aval_jogador_Heuracio)\n",
    "faz_campeonato(jogo, [belarmino, marco, heuracio], 10)"
   ]
  },
  {
   "cell_type": "markdown",
   "metadata": {},
   "source": [
    "### Realização de jogos com depth 3\n",
    "\n",
    "*Nota: Não é realizado um campeonato pois este é demorado*"
   ]
  },
  {
   "cell_type": "code",
   "execution_count": null,
   "metadata": {},
   "outputs": [],
   "source": [
    "depth = 3\n",
    "jogo = JogoBT_40()\n",
    "belarmino = JogadorAlfaBeta(\"Belarmino\", depth, f_aval_belarmino)\n",
    "marco = JogadorAlfaBeta(\"Marco\", depth, f_aval_jogador_Marco)\n",
    "heuracio = JogadorAlfaBeta(\"Heuracio\", depth, f_aval_jogador_Heuracio)\n",
    "\n",
    "mostraJogo(jogo, joga11com_timeout(jogo, belarmino, marco, 10), False)\n",
    "mostraJogo(jogo, joga11com_timeout(jogo, heuracio, belarmino, 10), False)"
   ]
  },
  {
   "cell_type": "markdown",
   "metadata": {},
   "source": [
    "## Exemplos de jogos entre dois dos vários jogadores desenvolvidos"
   ]
  },
  {
   "cell_type": "markdown",
   "metadata": {},
   "source": [
    "### Campeonato com depth 1"
   ]
  },
  {
   "cell_type": "code",
   "execution_count": null,
   "metadata": {},
   "outputs": [],
   "source": [
    "depth = 1\n",
    "jogo = JogoBT_40()\n",
    "marco = JogadorAlfaBeta(\"Marco\", depth, f_aval_jogador_Marco)\n",
    "heuracio = JogadorAlfaBeta(\"Heuracio\", depth, f_aval_jogador_Heuracio)\n",
    "faz_campeonato(jogo, [marco, heuracio], 10)"
   ]
  },
  {
   "cell_type": "markdown",
   "metadata": {},
   "source": [
    "### Campeonato com depth 2"
   ]
  },
  {
   "cell_type": "code",
   "execution_count": null,
   "metadata": {},
   "outputs": [],
   "source": [
    "depth = 2\n",
    "jogo = JogoBT_40()\n",
    "marco = JogadorAlfaBeta(\"Marco\", depth, f_aval_jogador_Marco)\n",
    "heuracio = JogadorAlfaBeta(\"Heuracio\", depth, f_aval_jogador_Heuracio)\n",
    "faz_campeonato(jogo, [marco, heuracio], 10)"
   ]
  },
  {
   "cell_type": "markdown",
   "metadata": {},
   "source": [
    "### Campeonato com depth 3"
   ]
  },
  {
   "cell_type": "code",
   "execution_count": null,
   "metadata": {},
   "outputs": [],
   "source": [
    "depth = 3\n",
    "jogo = JogoBT_40()\n",
    "marco = JogadorAlfaBeta(\"Marco\", depth, f_aval_jogador_Marco)\n",
    "heuracio = JogadorAlfaBeta(\"Heuracio\", depth, f_aval_jogador_Heuracio)\n",
    "faz_campeonato(jogo, [marco, heuracio], 10)"
   ]
  },
  {
   "cell_type": "markdown",
   "metadata": {},
   "source": [
    "*Nota: Ao testar, verificamos que é possível realizar jogos com depth 4, mas não vamos incluir pois são muito demorados*"
   ]
  },
  {
   "cell_type": "markdown",
   "metadata": {},
   "source": [
    "## Processo de selecção dos jogadores para o torneio\n",
    "Descreva o processo de selecção dos jogadores campeões, para entrar no campeonato \"todos contra todos\".\n",
    "\n"
   ]
  },
  {
   "cell_type": "markdown",
   "metadata": {},
   "source": [
    "A nossa escolha de jogador advém do nosso método de desenvolvimento. Decidimos desenvolver o nosso jogador de forma iterativa, isto é, a partir do primeiro jogador desenvolvido, fomos melhorando a sua função e o peso de cada avaliação.d\n",
    "Este método de desenvolvimento, deve-se aos ótimos resultados obtidos, frente ao Belarmino, utilizando o primeiro jogador desenvolvido, o jogador **Marco**\n",
    "\n",
    "**COLOCAR INFORMAÇÃO DE VÁRIOS JOGOS**\n",
    "\n",
    "Após verificarmos que ganhava grande parte dos seus jogos frente ao Belarmino, verificamos que mesmo assim os movimentos do Marco eram demasiado defensivos e pouco eficazes contra um adversário mais inteligente. Com essa observação, desenvolvemos a função ``` piece_value()```, esta permite valorizar a peça, tendo em conta a sua posição.\n",
    "\n",
    "Como foi explicado acima, a função torna o jogador balanceado no ataque e na defesa. Mesmo assim ao testar-mos contra o Belarmino, o Belarmino vencia bastantes jogos.\n",
    "\n",
    "**COLOCAR INFORMAÇÃO DE VÁRIOS JOGOS COM HEURÁCIO COM OS VALORES ANTIGOS**\n",
    "\n",
    "Fizemos mais testes e chegamos à conclusão que os pesos de cada critério teria de ser alterado, fizemos vários testes com valores diferentes, até que chegamos aos valores finais. Realizámos vários campeonatos entre o Belarmino, o Marco, e o Heurácio. Os resultados dos campenatos comprovam que o Heurácio é o melhor, mesmo não ganhando todos os jogos (nem a melhor equipa do mundo ganha todos os jogos), ganha uma percentagem bastante satisfatória\n",
    "\n",
    "**COLOCAR CAMPEONATOS ENTRE OS 3**\n",
    "\n",
    "Sendo assim, a nossa escolha recai sobre o Heurácio através de um desenvolvimento iterativo e de vários jogos frente ao belarmino e \"versões passadas\" do Heurácio\n",
    "\n",
    "<span style=\"color:magenta\"> É a parte mais importante do relatório, justificando porque convocaram o vosso Ronaldo para o campeonato. Se jogaram com vários jogadores (ou seja, várias funções de avaliação) e fizeram um torneio privado de selecção, podem apresentar aqui uma tabela com esses dados. </span>"
   ]
  }
 ],
 "metadata": {
  "colab": {
   "collapsed_sections": [],
   "name": "Untitled0.ipynb",
   "provenance": [],
   "version": "0.3.2"
  },
  "kernelspec": {
   "display_name": "Python 3.10.6 64-bit",
   "language": "python",
   "name": "python3"
  },
  "language_info": {
   "codemirror_mode": {
    "name": "ipython",
    "version": 3
   },
   "file_extension": ".py",
   "mimetype": "text/x-python",
   "name": "python",
   "nbconvert_exporter": "python",
   "pygments_lexer": "ipython3",
   "version": "3.10.6"
  },
  "vscode": {
   "interpreter": {
    "hash": "916dbcbb3f70747c44a77c7bcd40155683ae19c65e1c03b4aa3499c5328201f1"
   }
  }
 },
 "nbformat": 4,
 "nbformat_minor": 4
}
