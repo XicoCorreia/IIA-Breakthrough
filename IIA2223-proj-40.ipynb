{
 "cells": [
  {
   "cell_type": "markdown",
   "metadata": {
    "colab_type": "text",
    "id": "LekFEsVbua_R"
   },
   "source": [
    "#  Jogo BreakThrough\n",
    "\n",
    "## Introdução à Inteligência Artificial edição 2022/23\n",
    "### Projeto para avaliação\n",
    "\n",
    "<img src=\".\\images\\Picture0.png\" alt=\"Drawing\" style=\"width: 200px;\"/>"
   ]
  },
  {
   "cell_type": "markdown",
   "metadata": {},
   "source": [
    "### Grupo: 40\n",
    "\n",
    "#### Elementos do Grupo\n",
    "\n",
    "Nome: Francisco Correia\n",
    "\n",
    "Número: 54685\n",
    "\n",
    "Nome: Francisco Maia\n",
    "\n",
    "Número: 55855\n",
    "\n",
    "Nome: Alexandre Fonseca\n",
    "\n",
    "Número: 55955"
   ]
  },
  {
   "cell_type": "markdown",
   "metadata": {},
   "source": [
    "## Introdução\n",
    "Este é um esqueleto do relatório que podem naturalmente expandir, colocando mais células de texto e/ou de código."
   ]
  },
  {
   "cell_type": "markdown",
   "metadata": {},
   "source": [
    "## Formulação do Jogo BreakThrough em termos de estados e de operadores"
   ]
  },
  {
   "cell_type": "markdown",
   "metadata": {},
   "source": [
    "### Descrição da representação dos estados do jogo"
   ]
  },
  {
   "cell_type": "markdown",
   "metadata": {},
   "source": [
    "*Descrever aqui...*"
   ]
  },
  {
   "cell_type": "markdown",
   "metadata": {},
   "source": [
    "### Testes da formulação"
   ]
  },
  {
   "cell_type": "markdown",
   "metadata": {},
   "source": [
    "#### Situações iniciais dos jogos\n",
    "Uso do construtor e \"display\" de jogos iniciais"
   ]
  },
  {
   "cell_type": "markdown",
   "metadata": {},
   "source": [
    "Construção de um novo jogo com a situação inicial seguinte:\n",
    "\n",
    "<img src=\".\\images\\Picture1.png\" alt=\"Drawing\" style=\"width: 150px;\"/>\n",
    "<p style=\"text-align: center;\">Figura 1</p>"
   ]
  },
  {
   "cell_type": "code",
   "execution_count": null,
   "metadata": {},
   "outputs": [],
   "source": []
  },
  {
   "cell_type": "markdown",
   "metadata": {},
   "source": [
    "Eis o display desse estado inicial do jogo:"
   ]
  },
  {
   "cell_type": "code",
   "execution_count": null,
   "metadata": {},
   "outputs": [],
   "source": []
  },
  {
   "cell_type": "markdown",
   "metadata": {},
   "source": [
    "## Jogos entre jogadores simples\n",
    "Nesta secção irão realizar alguns jogos, para verificar a modelização"
   ]
  },
  {
   "cell_type": "code",
   "execution_count": null,
   "metadata": {},
   "outputs": [],
   "source": []
  },
  {
   "cell_type": "markdown",
   "metadata": {},
   "source": [
    "Faça o display de um dos jogos realizados atrás"
   ]
  },
  {
   "cell_type": "code",
   "execution_count": null,
   "metadata": {},
   "outputs": [],
   "source": []
  },
  {
   "cell_type": "markdown",
   "metadata": {},
   "source": [
    "## Exemplos de jogadores alfabeta\n",
    " Descreva e teste nesta secção as várias funções de avaliação desenvolvidas tanto para o ataque como para a defesa."
   ]
  },
  {
   "cell_type": "code",
   "execution_count": null,
   "metadata": {},
   "outputs": [],
   "source": []
  },
  {
   "cell_type": "markdown",
   "metadata": {},
   "source": [
    "## Exemplos de jogos entre alguns desses jogadores e o Belarmino"
   ]
  },
  {
   "cell_type": "code",
   "execution_count": null,
   "metadata": {},
   "outputs": [],
   "source": []
  },
  {
   "cell_type": "markdown",
   "metadata": {},
   "source": [
    "## Exemplos de jogos entre dois dos vários jogadores desenvolvidos"
   ]
  },
  {
   "cell_type": "code",
   "execution_count": null,
   "metadata": {},
   "outputs": [],
   "source": []
  },
  {
   "cell_type": "markdown",
   "metadata": {},
   "source": [
    "## Processo de selecção dos jogadores para o torneio\n",
    "Descreva o processo de selecção dos jogadores campeões, para entrar no campeonato \"todos contra todos\".\n",
    "\n"
   ]
  },
  {
   "cell_type": "markdown",
   "metadata": {},
   "source": [
    "*...aqui* \n",
    "\n",
    "<span style=\"color:magenta\"> É a parte mais importante do relatório, justificando porque convocaram o vosso Ronaldo para o campeonato. Se jogaram com vários jogadores (ou seja, várias funções de avaliação) e fizeram um torneio privado de selecção, podem apresentar aqui uma tabela com esses dados. </span>"
   ]
  },
  {
   "cell_type": "code",
   "execution_count": null,
   "metadata": {},
   "outputs": [],
   "source": []
  }
 ],
 "metadata": {
  "colab": {
   "collapsed_sections": [],
   "name": "Untitled0.ipynb",
   "provenance": [],
   "version": "0.3.2"
  },
  "kernelspec": {
   "display_name": "Python 3.10.4 64-bit",
   "language": "python",
   "name": "python3"
  },
  "language_info": {
   "codemirror_mode": {
    "name": "ipython",
    "version": 3
   },
   "file_extension": ".py",
   "mimetype": "text/x-python",
   "name": "python",
   "nbconvert_exporter": "python",
   "pygments_lexer": "ipython3",
   "version": "3.10.4"
  },
  "vscode": {
   "interpreter": {
    "hash": "25072da81dc57fa72136c82e6d19718a14c5723642e18451d5b885d66dc079e9"
   }
  }
 },
 "nbformat": 4,
 "nbformat_minor": 2
}
