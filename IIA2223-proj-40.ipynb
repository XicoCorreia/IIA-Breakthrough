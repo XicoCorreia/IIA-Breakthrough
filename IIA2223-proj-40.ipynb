{
 "cells": [
  {
   "cell_type": "markdown",
   "metadata": {
    "colab_type": "text",
    "id": "LekFEsVbua_R"
   },
   "source": [
    "#  Jogo BreakThrough\n",
    "\n",
    "## Introdução à Inteligência Artificial edição 2022/23\n",
    "### Projeto para avaliação\n",
    "\n",
    "<img src=\".\\images\\Picture0.png\" alt=\"Drawing\" style=\"width: 200px;\"/>"
   ]
  },
  {
   "cell_type": "markdown",
   "metadata": {},
   "source": [
    "### Grupo: 40\n",
    "\n",
    "#### Elementos do Grupo\n",
    "\n",
    "Nome: Francisco Correia\n",
    "\n",
    "Número: 54685\n",
    "\n",
    "Nome: Francisco Maia\n",
    "\n",
    "Número: 55855\n",
    "\n",
    "Nome: Alexandre Fonseca\n",
    "\n",
    "Número: 55955"
   ]
  },
  {
   "cell_type": "markdown",
   "metadata": {},
   "source": [
    "## Introdução\n",
    "Este é um esqueleto do relatório que podem naturalmente expandir, colocando mais células de texto e/ou de código."
   ]
  },
  {
   "cell_type": "markdown",
   "metadata": {},
   "source": [
    "## Formulação do Jogo BreakThrough em termos de estados e de operadores"
   ]
  },
  {
   "cell_type": "markdown",
   "metadata": {},
   "source": [
    "### Descrição da representação dos estados do jogo"
   ]
  },
  {
   "cell_type": "markdown",
   "metadata": {},
   "source": []
  },
  {
   "cell_type": "code",
   "execution_count": 165,
   "metadata": {},
   "outputs": [],
   "source": [
    "from time import time\n",
    "from jogos import *\n",
    "from jogar import *\n",
    "\n",
    "WHITE = 1\n",
    "BLACK = 2\n",
    "\n",
    "class EstadoBT_40:\n",
    "    def __init__(self, to_move, utility, board, whites, blacks, moves=None):\n",
    "        self.to_move = to_move\n",
    "        self.utility = utility\n",
    "        self.board = board\n",
    "        self.whites = whites\n",
    "        self.blacks = blacks\n",
    "        self.moves = moves\n",
    "\n",
    "    def __str__(self):\n",
    "        player_chars = [\".\", \"W\", \"B\"]  # 0, WHITES and BLACKS\n",
    "        board_str = [\"-----------------\"]\n",
    "        for i in range(len(self.board), 0, -1):\n",
    "            board_str.append(\n",
    "                f\"{i}|\" + \" \".join(map(lambda x: player_chars[x], self.board[i - 1]))\n",
    "            )\n",
    "        board_str.append(\"-+---------------\")\n",
    "        board_str.append(\" |a b c d e f g h\")\n",
    "        return \"\\n\".join(board_str)\n",
    "\n",
    "\n",
    "class JogoBT_40(Game):\n",
    "    def __init__(self, n=8):\n",
    "        self.n = n\n",
    "        whites = set((row, col) for row in range(2) for col in range(n))\n",
    "        blacks = set((row, col) for row in range(n - 2, n) for col in range(n))\n",
    "        board = [[0 for _ in range(n)] for _ in range(n)]\n",
    "        for x, y in whites:\n",
    "            board[x][y] = WHITE\n",
    "        for x, y in blacks:\n",
    "            board[x][y] = BLACK\n",
    "        to_move = WHITE\n",
    "        self.action_dict = self.compute_action_dict(n)\n",
    "        self.initial = EstadoBT_40(to_move, 0, board, whites, blacks)\n",
    "\n",
    "    def actions(self, state: EstadoBT_40):\n",
    "        if state.moves:\n",
    "            return state.moves\n",
    "        moves = set()\n",
    "        if state.to_move == WHITE:\n",
    "            pieces, pieces_opponent = state.whites, state.blacks\n",
    "        else:\n",
    "            pieces, pieces_opponent = state.blacks, state.whites\n",
    "        for pos in pieces:\n",
    "            for target, move in self.action_dict[pos][state.to_move].items():\n",
    "                # can't eat opponent's piece if it is directly in front of ours\n",
    "                if target[1] == pos[1] and target in pieces_opponent:\n",
    "                    continue\n",
    "                if target not in pieces:  # don't eat our own pieces\n",
    "                    moves.add(move)\n",
    "        state.moves = sorted(moves)\n",
    "        return state.moves\n",
    "\n",
    "    def display(self, state):\n",
    "        print(state)\n",
    "        if not self.terminal_test(state):\n",
    "            print(f'--NEXT PLAYER: {\"W\" if state.to_move == WHITE else \"B\"}')\n",
    "\n",
    "    def executa(self, state: EstadoBT_40, valid_actions: \"list[str]\"):\n",
    "        \"\"\"Executa várias jogadas sobre um estado dado.\n",
    "        Devolve o estado final.\"\"\"\n",
    "        result = state\n",
    "        for move in valid_actions:\n",
    "            result = self.result(result, move)\n",
    "        return result\n",
    "\n",
    "    def result(self, state: EstadoBT_40, move):\n",
    "        board = [row[:] for row in state.board]  # deepcopy\n",
    "        (old_row, old_col), (new_row, new_col) = self.convert_move(move)\n",
    "        board[new_row][new_col] = state.to_move\n",
    "        board[old_row][old_col] = 0\n",
    "        whites, blacks = state.whites.copy(), state.blacks.copy()\n",
    "\n",
    "        if state.to_move == WHITE:\n",
    "            whites.remove((old_row, old_col))\n",
    "            whites.add((new_row, new_col))\n",
    "            blacks.discard((new_row, new_col))\n",
    "            to_move = BLACK\n",
    "        else:\n",
    "            blacks.remove((old_row, old_col))\n",
    "            blacks.add((new_row, new_col))\n",
    "            whites.discard((new_row, new_col))\n",
    "            to_move = WHITE\n",
    "\n",
    "        return EstadoBT_40(\n",
    "            to_move,\n",
    "            self.compute_utility(new_row, state.to_move),\n",
    "            board,\n",
    "            whites,\n",
    "            blacks,\n",
    "        )\n",
    "\n",
    "    def terminal_test(self, state: EstadoBT_40):\n",
    "        return state.utility != 0 or len(self.actions(state)) == 0\n",
    "\n",
    "    def utility(self, state: EstadoBT_40, player):\n",
    "        # W: 1, B: -1\n",
    "        return state.utility if player == WHITE else -state.utility\n",
    "\n",
    "    def compute_utility(self, row, player):\n",
    "        if 0 < row < self.n - 1:\n",
    "            return 0\n",
    "        return 1 if player == WHITE else -1\n",
    "\n",
    "    def compute_action_dict(self, n):\n",
    "        \"\"\"\n",
    "        Gera um dicionário de ações que associa pares de coordenadas\n",
    "        ((x1, y1), (x2, y2)) para ações no formato dado no enunciado.\n",
    "        Exemplo: ((0, 0), (1, 1)) -> a1-b2\n",
    "        \"\"\"\n",
    "\n",
    "        def in_board(x):\n",
    "            return 0 <= x < n\n",
    "\n",
    "        ret = {}\n",
    "        a_ord = ord(\"a\")\n",
    "        for row in range(n):\n",
    "            for col in range(n):\n",
    "                black_moves = {}\n",
    "                white_moves = {}\n",
    "                for i in filter(in_board, (row - 1, row + 1)):\n",
    "                    # white pieces move upwards, black pieces downwards\n",
    "                    moves = white_moves if i > row else black_moves\n",
    "                    for j in filter(in_board, (col - 1, col, col + 1)):\n",
    "                        moves[(i, j)] = \"-\".join(\n",
    "                            [f\"{chr(col + a_ord)}{row + 1}\", f\"{chr(j + a_ord)}{i + 1}\"]\n",
    "                        )\n",
    "                # use None to pad tuple so we can use to_move as index\n",
    "                ret[(row, col)] = (None, white_moves, black_moves)\n",
    "        return ret\n",
    "\n",
    "    # ? Usar dict inverso para mais desempenho\n",
    "    def convert_move(self, move):\n",
    "        \"\"\"Converte uma ação no formato do enunciado\n",
    "        para uma ação representada no estado interno.\n",
    "        Exemplo: \"a1-b2\" -> ((0, 0), (1, 1))\"\"\"\n",
    "        ord_a = ord(\"a\")\n",
    "        (old_col, old_row), (new_col, new_row) = move.split(\"-\")\n",
    "        return (\n",
    "            (int(old_row) - 1, ord(old_col) - ord_a),\n",
    "            (int(new_row) - 1, ord(new_col) - ord_a),\n",
    "        )"
   ]
  },
  {
   "cell_type": "markdown",
   "metadata": {},
   "source": [
    "### Testes da formulação"
   ]
  },
  {
   "cell_type": "markdown",
   "metadata": {},
   "source": [
    "#### Situações iniciais dos jogos\n",
    "Uso do construtor e \"display\" de jogos iniciais"
   ]
  },
  {
   "cell_type": "markdown",
   "metadata": {},
   "source": [
    "Construção de um novo jogo com a situação inicial seguinte:\n",
    "\n",
    "<img src=\".\\images\\Picture1.png\" alt=\"Drawing\" style=\"width: 150px;\"/>\n",
    "<p style=\"text-align: center;\">Figura 1</p>"
   ]
  },
  {
   "cell_type": "markdown",
   "metadata": {},
   "source": [
    "### Método Display()\n",
    "Tendo em conta o que foi explicado acima, a construção de um novo jogo tem como objetivo definir quais as posições iniciais das peças brancas e pretas, as brancas vão preencher as primeiras duas linhas e as pretas as últimas duas, o primeiro jogador a jogar, que será sempre o que joga com as peças brancas, e criar o dicionário de jogadas, que vai ser util para traduzir um par de cordenadas em jogadas do estilo \"a1-a2\".\n",
    "\n",
    "A função compute_action_dict() devolve um dicionário que associa uma posição `(x, y)` usada no estado interno às ações disponíveis nessa posição.\n",
    "\n",
    "As associações são feitas em função do jogador (`1` para peças brancas, `2` para peças pretas).\n",
    "\n",
    "As ações são devolvidas num dicionário em que as chaves são a posição do destino e os valores são a ação em si."
   ]
  },
  {
   "cell_type": "code",
   "execution_count": 166,
   "metadata": {},
   "outputs": [],
   "source": [
    "j1 = JogoBT_40()"
   ]
  },
  {
   "cell_type": "markdown",
   "metadata": {},
   "source": [
    "Eis o display desse estado inicial do jogo:"
   ]
  },
  {
   "cell_type": "code",
   "execution_count": 167,
   "metadata": {},
   "outputs": [
    {
     "name": "stdout",
     "output_type": "stream",
     "text": [
      "-----------------\n",
      "8|B B B B B B B B\n",
      "7|B B B B B B B B\n",
      "6|. . . . . . . .\n",
      "5|. . . . . . . .\n",
      "4|. . . . . . . .\n",
      "3|. . . . . . . .\n",
      "2|W W W W W W W W\n",
      "1|W W W W W W W W\n",
      "-+---------------\n",
      " |a b c d e f g h\n",
      "--NEXT PLAYER: W\n"
     ]
    }
   ],
   "source": [
    "j1.display(j1.initial)"
   ]
  },
  {
   "cell_type": "markdown",
   "metadata": {},
   "source": [
    "### Método actions()\n",
    "\n",
    "Podemos verificar quais as ações possiveís para o próximo jogador, neste caso 'W', a partir do método actions. Este método foi definido para iterar sobre todas as peças do jogador a jogar e de seguida iterar pelo dicionário de ações.\n",
    "O dicionário está definido da seguinte forma:\n",
    "\n",
    "```Python\n",
    "(1,1) -> (\n",
    "    None,\n",
    "    1 (Whites): {(2,0): b2-a3, (2,1): b2-b3,(2,2): b2-c3},\n",
    "    2 (Blacks): {(0,0): b2-a1, (0,1): b2-b1,(0,2): b2-c1}\n",
    ")\n",
    "```\n",
    "Isto é, para a posição (1,1) uma peça branca pode mover-se para (2,0), (2,1), (2,2) e uma peça preta para (0,0), (0,1), (0,2).\n",
    "\n",
    "Durante a iteração pelas jogadas que podem ser executadas verificamos:\n",
    "- Se na posição \"à frente\" da posição inicial da peça existe uma peça do adversário\n",
    "- Se não existem peças do jogador na posição para as posições que a peça se pode mover\n",
    "\n",
    "A jogada só é válida se **ambas** as condições forem falsas."
   ]
  },
  {
   "cell_type": "code",
   "execution_count": 168,
   "metadata": {},
   "outputs": [
    {
     "name": "stdout",
     "output_type": "stream",
     "text": [
      "Next Player: W\n",
      "Ações possíveis: ['a2-a3', 'a2-b3', 'b2-a3', 'b2-b3', 'b2-c3', 'c2-b3', 'c2-c3', 'c2-d3', 'd2-c3', 'd2-d3', 'd2-e3', 'e2-d3', 'e2-e3', 'e2-f3', 'f2-e3', 'f2-f3', 'f2-g3', 'g2-f3', 'g2-g3', 'g2-h3', 'h2-g3', 'h2-h3']\n"
     ]
    }
   ],
   "source": [
    "to_move = j1.initial.to_move\n",
    "player = 'W' if to_move == 1 else 'B'\n",
    "print(\"Next Player:\", player)\n",
    "print(\"Ações possíveis:\", j1.actions(j1.initial))"
   ]
  },
  {
   "cell_type": "markdown",
   "metadata": {},
   "source": [
    "## Jogos entre jogadores simples\n",
    "Nesta secção irão realizar alguns jogos, para verificar a modelização"
   ]
  },
  {
   "cell_type": "markdown",
   "metadata": {},
   "source": [
    "Jogo entre dois jogadores random:"
   ]
  },
  {
   "cell_type": "code",
   "execution_count": 169,
   "metadata": {},
   "outputs": [
    {
     "name": "stdout",
     "output_type": "stream",
     "text": [
      "Randall vs Randy\n",
      "Ganham as Blacks\n"
     ]
    }
   ],
   "source": [
    "j2 = JogoBT_40()\n",
    "player1 = Jogador(\"Randall\", random_player)\n",
    "player2 = Jogador(\"Randy\", random_player)\n",
    "game_to_display = joga11(j2, player1, player2)\n",
    "mostraJogo(j2, game_to_display, False)"
   ]
  },
  {
   "cell_type": "markdown",
   "metadata": {},
   "source": [
    "Jogo entre um jogador random e um jogador alfabeta, com depth 2, que utiliza como eval_fun a função utility:"
   ]
  },
  {
   "cell_type": "code",
   "execution_count": 170,
   "metadata": {},
   "outputs": [
    {
     "name": "stdout",
     "output_type": "stream",
     "text": [
      "Alfaiate vs Randall\n",
      "Ganham as Whites\n"
     ]
    }
   ],
   "source": [
    "player3 = JogadorAlfaBeta(\"Alfaiate\", 2, j2.utility)\n",
    "mostraJogo(j2, joga11(j2, player3, player1))"
   ]
  },
  {
   "cell_type": "markdown",
   "metadata": {},
   "source": [
    "Campeonato entre 4 jogadores, dois random's e dois alfabeta, com depth 2, que utilizam a função utility como eval_fun:"
   ]
  },
  {
   "cell_type": "code",
   "execution_count": 171,
   "metadata": {},
   "outputs": [
    {
     "name": "stdout",
     "output_type": "stream",
     "text": [
      "1 Randall Randy --vencedor= Randy\n",
      "2 Randall Alfaiate --vencedor= Alfaiate\n",
      "3 Randall Alberta --vencedor= Alberta\n",
      "4 Randy Randall --vencedor= Randall\n",
      "5 Randy Alfaiate --vencedor= Alfaiate\n",
      "6 Randy Alberta --vencedor= Alberta\n",
      "7 Alfaiate Randall --vencedor= Alfaiate\n",
      "8 Alfaiate Randy --vencedor= Alfaiate\n",
      "9 Alfaiate Alberta --vencedor= Alberta\n",
      "10 Alberta Randall --vencedor= Alberta\n",
      "11 Alberta Randy --vencedor= Alberta\n",
      "12 Alberta Alfaiate --vencedor= Alfaiate\n",
      "JOGADOR VITÓRIAS\n",
      "Alfaiate       5\n",
      "Alberta        5\n",
      "Randall        1\n",
      "Randy          1\n"
     ]
    }
   ],
   "source": [
    "player4 = JogadorAlfaBeta(\"Alberta\", 2, j2.utility)\n",
    "faz_campeonato(j2, [player1, player2, player3, player4], 10)"
   ]
  },
  {
   "cell_type": "markdown",
   "metadata": {},
   "source": [
    "Faça o display de um dos jogos realizados atrás"
   ]
  },
  {
   "cell_type": "code",
   "execution_count": 172,
   "metadata": {},
   "outputs": [
    {
     "name": "stdout",
     "output_type": "stream",
     "text": [
      "Jogo entre Randall e Randy \n",
      "\n",
      "As jogadas efetuadas foram:  ['b2-b3', 'h7-g6', 'c2-c3', 'd7-d6', 'g2-h3', 'g6-f5', 'd2-d3', 'f5-f4', 'c3-b4', 'b7-a6', 'b4-c5', 'f7-f6', 'b1-b2', 'e8-d7', 'e1-d2', 'c7-b6', 'h3-g4', 'b6-b5', 'd3-e4', 'f4-f3', 'g4-f5', 'f8-f7', 'f2-g3', 'a8-b7', 'f5-g6', 'f7-e6', 'g6-h7', 'g8-f7', 'e2-e3', 'f3-g2', 'g3-f4', 'd6-e5', 'c5-c6', 'f7-g6', 'f1-f2', 'd7-c6', 'd2-c3', 'b5-c4', 'e4-f5', 'd8-c7', 'd1-c2', 'c6-d5', 'f4-g5', 'c4-b3', 'c3-c4', 'e5-e4', 'c4-c5', 'e6-f5', 'h2-g3', 'e4-d3', 'e3-e4', 'c7-c6', 'g1-h2', 'g2-f1'] \n",
      "\n",
      "Vencedor do jogo: Randy\n"
     ]
    }
   ],
   "source": [
    "jogadores, jogadas, vencedor = game_to_display\n",
    "print(\"Jogo entre\", jogadores[0], \"e\", jogadores[1], \"\\n\")\n",
    "print(\"As jogadas efetuadas foram: \", jogadas, \"\\n\")\n",
    "print(\"Vencedor do jogo:\", jogadores[0] if vencedor == 1 else jogadores[1])"
   ]
  },
  {
   "cell_type": "markdown",
   "metadata": {},
   "source": [
    "## Exemplos de jogadores alfabeta\n",
    " Descreva e teste nesta secção as várias funções de avaliação desenvolvidas tanto para o ataque como para a defesa."
   ]
  },
  {
   "cell_type": "markdown",
   "metadata": {},
   "source": [
    "### Belarmino\n",
    "\n",
    "Primeiramente, antes de definirmos as nossas próprias funções de avaliação, definimos o belarmino:"
   ]
  },
  {
   "cell_type": "code",
   "execution_count": 173,
   "metadata": {},
   "outputs": [],
   "source": [
    "def f_aval_belarmino(estado: EstadoBT_40, jogador):\n",
    "    res = 0\n",
    "    n = len(estado.board)\n",
    "    if jogador == WHITE:\n",
    "        for row, _ in estado.whites:\n",
    "            x = row + 1\n",
    "            res += x**x\n",
    "    else:\n",
    "        for row, _ in estado.blacks:\n",
    "            x = n - row\n",
    "            res += x**x\n",
    "    return res"
   ]
  },
  {
   "cell_type": "markdown",
   "metadata": {},
   "source": [
    "### Funções de avaliação definidas por nós"
   ]
  },
  {
   "cell_type": "markdown",
   "metadata": {},
   "source": [
    "Como último jogador, vamos chama-lo Heuracio, definimos um jogador baseado no anterior mas com uma nova função ```piece_value() ``` "
   ]
  },
  {
   "cell_type": "code",
   "execution_count": null,
   "metadata": {},
   "outputs": [],
   "source": []
  },
  {
   "cell_type": "markdown",
   "metadata": {},
   "source": [
    "## Exemplos de jogos entre alguns desses jogadores e o Belarmino"
   ]
  },
  {
   "cell_type": "code",
   "execution_count": null,
   "metadata": {},
   "outputs": [],
   "source": []
  },
  {
   "cell_type": "markdown",
   "metadata": {},
   "source": [
    "## Exemplos de jogos entre dois dos vários jogadores desenvolvidos"
   ]
  },
  {
   "cell_type": "code",
   "execution_count": null,
   "metadata": {},
   "outputs": [],
   "source": []
  },
  {
   "cell_type": "markdown",
   "metadata": {},
   "source": [
    "## Processo de selecção dos jogadores para o torneio\n",
    "Descreva o processo de selecção dos jogadores campeões, para entrar no campeonato \"todos contra todos\".\n",
    "\n"
   ]
  },
  {
   "cell_type": "markdown",
   "metadata": {},
   "source": [
    "*...aqui* \n",
    "\n",
    "<span style=\"color:magenta\"> É a parte mais importante do relatório, justificando porque convocaram o vosso Ronaldo para o campeonato. Se jogaram com vários jogadores (ou seja, várias funções de avaliação) e fizeram um torneio privado de selecção, podem apresentar aqui uma tabela com esses dados. </span>"
   ]
  },
  {
   "cell_type": "code",
   "execution_count": null,
   "metadata": {},
   "outputs": [],
   "source": []
  }
 ],
 "metadata": {
  "colab": {
   "collapsed_sections": [],
   "name": "Untitled0.ipynb",
   "provenance": [],
   "version": "0.3.2"
  },
  "kernelspec": {
   "display_name": "Python 3.10.6 64-bit",
   "language": "python",
   "name": "python3"
  },
  "language_info": {
   "codemirror_mode": {
    "name": "ipython",
    "version": 3
   },
   "file_extension": ".py",
   "mimetype": "text/x-python",
   "name": "python",
   "nbconvert_exporter": "python",
   "pygments_lexer": "ipython3",
   "version": "3.10.6"
  },
  "vscode": {
   "interpreter": {
    "hash": "916dbcbb3f70747c44a77c7bcd40155683ae19c65e1c03b4aa3499c5328201f1"
   }
  }
 },
 "nbformat": 4,
 "nbformat_minor": 2
}
